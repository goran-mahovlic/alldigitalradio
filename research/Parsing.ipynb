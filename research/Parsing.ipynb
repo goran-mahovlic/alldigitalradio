{
 "cells": [
  {
   "cell_type": "markdown",
   "id": "straight-cycling",
   "metadata": {},
   "source": [
    "# Parsing\n",
    "\n",
    "This isn't so much a useful nmigen tool in so much as it's useful for parsing or assembling arbitrary binary packets, which is naturally required to build a digital radio.\n",
    "\n",
    "Perhaps in the future this can be expanded to a hardware-based parser.\n",
    "\n",
    "First starting with imports..."
   ]
  },
  {
   "cell_type": "code",
   "execution_count": 16,
   "id": "funky-desire",
   "metadata": {},
   "outputs": [],
   "source": [
    "from pprint import pprint\n",
    "\n",
    "import os,sys,inspect\n",
    "currentdir = os.path.dirname(os.path.abspath(inspect.getfile(inspect.currentframe())))\n",
    "parentdir = os.path.dirname(currentdir)\n",
    "sys.path.insert(0,parentdir)\n",
    "\n",
    "from nmigen import Module, Memory\n",
    "\n",
    "from alldigitalradio.parsing import Chunk, chunk, flip, num, Format, o, lsb_num\n",
    "from alldigitalradio.util import pack_mem"
   ]
  },
  {
   "cell_type": "markdown",
   "id": "conservative-revision",
   "metadata": {},
   "source": [
    "I commonly want to create a test packet, but I don't want to define a million custom structs on the fly or just manually type out a bunch of ones and zeros.\n",
    "\n",
    "For this, I use `Chunk` as well as other convenient methods to insert bytes and flip for various endianness. This is an example for a bluetooth packet:"
   ]
  },
  {
   "cell_type": "code",
   "execution_count": 9,
   "id": "extraordinary-native",
   "metadata": {},
   "outputs": [],
   "source": [
    "packet = Chunk(\n",
    "    preamble=[0, 1, 0, 1, 0, 1, 0, 1],\n",
    "    access_address=flip(o(0x8e, 0x89, 0xbe, 0xd6)),\n",
    "\n",
    "    ble_packet=Chunk(\n",
    "      pdu_type=flip([0, 0, 1, 0]), # Connectible undirected advertising event (BLE advertising)\n",
    "      rfu_0=[0]*2, # Reserved for future use\n",
    "      tx_add=[0],\n",
    "      rx_add=[0],\n",
    "      length=[0]*8, # Filled in later\n",
    "\n",
    "      payload=Chunk(\n",
    "        device_addr=flip(o(0x90, 0xd7, 0xeb, 0xb1, 0x92, 0x99)),\n",
    "        payload_1=Chunk(\n",
    "          length=flip(o(0x02)), \n",
    "          kind=flip(o(0x01)), # Flag\n",
    "          data=flip(o(0x05))), # Limited discoverable, BR/EDR not supported\n",
    "        payload_2=Chunk(\n",
    "            length=flip(o(1 + len(\"I LOVE MINDY\"))),\n",
    "            kind=flip(o(0x08)), # Short name\n",
    "            name=o(*[ord(c) for c in \"I LOVE MINDY\"], lsb=True))),\n",
    "    ),\n",
    "\n",
    "    crc=[0]*24\n",
    ")"
   ]
  },
  {
   "cell_type": "markdown",
   "id": "hourly-liabilities",
   "metadata": {},
   "source": [
    "To parse this, you can use `Format` to do the reverse. The numbers here are the number of bits in a given section."
   ]
  },
  {
   "cell_type": "code",
   "execution_count": 18,
   "id": "norwegian-yellow",
   "metadata": {},
   "outputs": [
    {
     "name": "stdout",
     "output_type": "stream",
     "text": [
      "I LOVE MINDY\n",
      "OrderedDict([('preamble', [0, 1, 0, 1, 0, 1, 0, 1]),\n",
      "             ('access_address',\n",
      "              [0, 1, 1, 0, 1, 0, 1, 1, 0, 1, 1, 1, 1, 1, 0, 1, 1, 0, 0, 1, 0, 0,\n",
      "               0, 1, 0, 1, 1, 1, 0, 0, 0, 1]),\n",
      "             ('ble_packet',\n",
      "              OrderedDict([('pdu_type', [0, 1, 0, 0]), ('rfu_0', [0, 0]),\n",
      "                           ('tx_add', [0]), ('rx_add', [0]),\n",
      "                           ('length', [0, 0, 0, 0, 0, 0, 0, 0]),\n",
      "                           ('payload',\n",
      "                            OrderedDict([('device_addr',\n",
      "                                          [1, 0, 0, 1, 1, 0, 0, 1, 0, 1, 0, 0,\n",
      "                                           1, 0, 0, 1, 1, 0, 0, 0, 1, 1, 0, 1,\n",
      "                                           1, 1, 0, 1, 0, 1, 1, 1, 1, 1, 1, 0,\n",
      "                                           1, 0, 1, 1, 0, 0, 0, 0, 1, 0, 0,\n",
      "                                           1]),\n",
      "                                         ('payload_1',\n",
      "                                          OrderedDict([('length',\n",
      "                                                        [0, 1, 0, 0, 0, 0, 0,\n",
      "                                                         0]),\n",
      "                                                       ('kind',\n",
      "                                                        [1, 0, 0, 0, 0, 0, 0,\n",
      "                                                         0]),\n",
      "                                                       ('payload',\n",
      "                                                        [1, 0, 1, 0, 0, 0, 0,\n",
      "                                                         0])])),\n",
      "                                         ('payload_2',\n",
      "                                          OrderedDict([('length',\n",
      "                                                        [1, 0, 1, 1, 0, 0, 0,\n",
      "                                                         0]),\n",
      "                                                       ('kind',\n",
      "                                                        [0, 0, 0, 1, 0, 0, 0,\n",
      "                                                         0]),\n",
      "                                                       ('payload',\n",
      "                                                        [1, 0, 0, 1, 0, 0, 1, 0,\n",
      "                                                         0, 0, 0, 0, 0, 1, 0, 0,\n",
      "                                                         0, 0, 1, 1, 0, 0, 1, 0,\n",
      "                                                         1, 1, 1, 1, 0, 0, 1, 0,\n",
      "                                                         0, 1, 1, 0, 1, 0, 1, 0,\n",
      "                                                         1, 0, 1, 0, 0, 0, 1, 0,\n",
      "                                                         0, 0, 0, 0, 0, 1, 0, 0,\n",
      "                                                         1, 0, 1, 1, 0, 0, 1, 0,\n",
      "                                                         1, 0, 0, 1, 0, 0, 1, 0,\n",
      "                                                         0, 1, 1, 1, 0, 0, 1, 0,\n",
      "                                                         0, 0, 1, 0, 0, 0, 1, 0,\n",
      "                                                         1, 0, 0, 1, 1, 0, 1,\n",
      "                                                         0])]))]))])),\n",
      "             ('crc',\n",
      "              [0, 0, 0, 0, 0, 0, 0, 0, 0, 0, 0, 0, 0, 0, 0, 0, 0, 0, 0, 0, 0, 0,\n",
      "               0, 0])])\n"
     ]
    }
   ],
   "source": [
    "# First define a format, which is a nested list of sections N bits wide\n",
    "format = Format(\n",
    "    preamble=8,\n",
    "    access_address=32,\n",
    "    ble_packet=Format(\n",
    "        pdu_type=4,\n",
    "        rfu_0=2,\n",
    "        tx_add=1,\n",
    "        rx_add=1,\n",
    "        length=8,\n",
    "        payload=Format(\n",
    "            device_addr=48, # The sending device\n",
    "            payload_1=Format(\n",
    "              length=8, \n",
    "              kind=8,\n",
    "              payload=8),\n",
    "            payload_2=Format(\n",
    "              length=8,\n",
    "              kind=8,\n",
    "              payload=12*8)\n",
    "        ),\n",
    "    ),\n",
    "    crc=24\n",
    ")\n",
    "\n",
    "# Take the bits from above and parse them again\n",
    "bits = packet.bits()\n",
    "read, parsed = format.parse(bits)\n",
    "\n",
    "# You can easily index into the parsed packages as if it was a JSON-style object\n",
    "print(''.join(map(chr, pack_mem(parsed.ble_packet.payload.payload_2.payload, 8))))\n",
    "\n",
    "# Or just print everything out for inspection\n",
    "pprint(parsed.json(), compact=True)"
   ]
  },
  {
   "cell_type": "markdown",
   "id": "distant-memphis",
   "metadata": {},
   "source": [
    "Note that parsing variable length or repeated fields isn't supported as I have yet to figure out a convenient and simple syntax to define them."
   ]
  },
  {
   "cell_type": "code",
   "execution_count": null,
   "id": "potential-respondent",
   "metadata": {},
   "outputs": [],
   "source": []
  }
 ],
 "metadata": {
  "kernelspec": {
   "display_name": "Python 3",
   "language": "python",
   "name": "python3"
  },
  "language_info": {
   "codemirror_mode": {
    "name": "ipython",
    "version": 3
   },
   "file_extension": ".py",
   "mimetype": "text/x-python",
   "name": "python",
   "nbconvert_exporter": "python",
   "pygments_lexer": "ipython3",
   "version": "3.8.8"
  }
 },
 "nbformat": 4,
 "nbformat_minor": 5
}
