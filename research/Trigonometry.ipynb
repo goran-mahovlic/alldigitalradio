{
 "cells": [
  {
   "cell_type": "markdown",
   "id": "criminal-music",
   "metadata": {},
   "source": [
    "# Trigonometry\n",
    "\n",
    "Very often in a radio we need to compute the magnitude or phase of a wave (represented in the complex domain). \n",
    "\n",
    "This can be expensive to do precisely, but approximations are usually good enough for our purposes.\n",
    "\n",
    "Per usual, we should start off with some imports:"
   ]
  },
  {
   "cell_type": "code",
   "execution_count": 1,
   "id": "square-reconstruction",
   "metadata": {},
   "outputs": [],
   "source": [
    "%matplotlib inline\n",
    "import numpy as np\n",
    "from numpy.fft import fft, fftfreq\n",
    "import matplotlib.pyplot as plt\n",
    "\n",
    "import os,sys,inspect\n",
    "currentdir = os.path.dirname(os.path.abspath(inspect.getfile(inspect.currentframe())))\n",
    "parentdir = os.path.dirname(currentdir)\n",
    "sys.path.insert(0,parentdir)\n",
    "\n",
    "from alldigitalradio.trig import MagnitudeApproximator\n",
    "from alldigitalradio.io.numpy import make_callable, take_n"
   ]
  },
  {
   "cell_type": "markdown",
   "id": "skilled-scanner",
   "metadata": {},
   "source": [
    "# Magnitude\n",
    "\n",
    "Magnitude, or more formally \"L2 Norm\" requires squaring and square roots (and also addition, but that's cheap).\n",
    "\n",
    "I found in some paper I've long forgotten an approximation I think pulled from a textbook that is implemented entirely with comparisons, adders and shifts.\n",
    "\n",
    "To evaluate this, let's generate a sweep from zero to 2pi in the complex domain."
   ]
  },
  {
   "cell_type": "code",
   "execution_count": 2,
   "id": "different-neighbor",
   "metadata": {},
   "outputs": [
    {
     "data": {
      "text/plain": [
       "[<matplotlib.lines.Line2D at 0x7f2eb69634f0>]"
      ]
     },
     "execution_count": 2,
     "metadata": {},
     "output_type": "execute_result"
    },
    {
     "data": {
      "image/png": "[encoded data removed]",
      "text/plain": [
       "<Figure size 360x360 with 1 Axes>"
      ]
     },
     "metadata": {
      "needs_background": "light"
     },
     "output_type": "display_data"
    }
   ],
   "source": [
    "inputs = np.exp(1j*(np.arange(0, 2*np.pi, 2*np.pi/100)))\n",
    "plt.figure(figsize=(5,5))\n",
    "plt.plot(np.real(inputs), np.imag(inputs), '.')"
   ]
  },
  {
   "cell_type": "markdown",
   "id": "parallel-pacific",
   "metadata": {},
   "source": [
    "Now let's push this through the `MagnitudeApproximator`"
   ]
  },
  {
   "cell_type": "code",
   "execution_count": 9,
   "id": "related-programmer",
   "metadata": {},
   "outputs": [
    {
     "data": {
      "text/plain": [
       "[<matplotlib.lines.Line2D at 0x7f2eb65ce700>]"
      ]
     },
     "execution_count": 9,
     "metadata": {},
     "output_type": "execute_result"
    },
    {
     "data": {
      "image/png": "[encoded data removed]",
      "text/plain": [
       "<Figure size 432x288 with 1 Axes>"
      ]
     },
     "metadata": {
      "needs_background": "light"
     },
     "output_type": "display_data"
    }
   ],
   "source": [
    "approximator = make_callable(MagnitudeApproximator())\n",
    "\n",
    "plt.plot([approximator(int(np.real(s)*100), int(np.imag(s)*100)) for s in inputs])\n",
    "plt.plot(np.abs(inputs*100))"
   ]
  },
  {
   "cell_type": "markdown",
   "id": "noted-phone",
   "metadata": {},
   "source": [
    "All in all, we can see a decent amount of error, but it's directionally correct enough for our purposes."
   ]
  },
  {
   "cell_type": "markdown",
   "id": "modified-miniature",
   "metadata": {},
   "source": [
    "# Phase\n",
    "\n",
    "The traditional way to approximate phase is to use CORDIC, but I've yet to need calculate phase."
   ]
  },
  {
   "cell_type": "code",
   "execution_count": null,
   "id": "abroad-argentina",
   "metadata": {},
   "outputs": [],
   "source": []
  }
 ],
 "metadata": {
  "kernelspec": {
   "display_name": "Python 3",
   "language": "python",
   "name": "python3"
  },
  "language_info": {
   "codemirror_mode": {
    "name": "ipython",
    "version": 3
   },
   "file_extension": ".py",
   "mimetype": "text/x-python",
   "name": "python",
   "nbconvert_exporter": "python",
   "pygments_lexer": "ipython3",
   "version": "3.8.5"
  }
 },
 "nbformat": 4,
 "nbformat_minor": 5
}
