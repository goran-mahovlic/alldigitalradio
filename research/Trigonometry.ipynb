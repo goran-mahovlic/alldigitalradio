{
 "cells": [
  {
   "cell_type": "markdown",
   "id": "metropolitan-living",
   "metadata": {},
   "source": [
    "# Trigonometry\n",
    "\n",
    "Very often in a radio we need to compute the magnitude or phase of a wave (represented in the complex domain). \n",
    "\n",
    "This can be expensive to do precisely, but approximations are usually good enough for our purposes.\n",
    "\n",
    "Per usual, we should start off with some imports:"
   ]
  },
  {
   "cell_type": "code",
   "execution_count": 1,
   "id": "southern-landscape",
   "metadata": {},
   "outputs": [],
   "source": [
    "%matplotlib inline\n",
    "import numpy as np\n",
    "from numpy.fft import fft, fftfreq\n",
    "import matplotlib.pyplot as plt\n",
    "\n",
    "import os,sys,inspect\n",
    "currentdir = os.path.dirname(os.path.abspath(inspect.getfile(inspect.currentframe())))\n",
    "parentdir = os.path.dirname(currentdir)\n",
    "sys.path.insert(0,parentdir)\n",
    "\n",
    "from alldigitalradio.trig import MagnitudeApproximator\n",
    "from alldigitalradio.io.numpy import make_callable, take_n"
   ]
  },
  {
   "cell_type": "markdown",
   "id": "dressed-championship",
   "metadata": {},
   "source": [
    "# Magnitude\n",
    "\n",
    "Magnitude, or more formally \"L2 Norm\" requires squaring and square roots (and also addition, but that's cheap).\n",
    "\n",
    "I found in some paper I've long forgotten an approximation I think pulled from a textbook that is implemented entirely with comparisons, adders and shifts.\n",
    "\n",
    "To evaluate this, let's generate a sweep from zero to 2pi in the complex domain, with an increasing magnitude"
   ]
  },
  {
   "cell_type": "code",
   "execution_count": 2,
   "id": "daily-probe",
   "metadata": {},
   "outputs": [
    {
     "data": {
      "text/plain": [
       "[<matplotlib.lines.Line2D at 0x7fa3f588a5b0>]"
      ]
     },
     "execution_count": 2,
     "metadata": {},
     "output_type": "execute_result"
    },
    {
     "data": {
      "image/png": "[encoded data removed]",
      "text/plain": [
       "<Figure size 360x360 with 1 Axes>"
      ]
     },
     "metadata": {
      "needs_background": "light"
     },
     "output_type": "display_data"
    }
   ],
   "source": [
    "p = np.arange(0, 2*np.pi, 2*np.pi/100)              \n",
    "inputs = p*np.exp(1j*p)\n",
    "plt.figure(figsize=(5,5))\n",
    "plt.plot(np.real(inputs), np.imag(inputs), '.')"
   ]
  },
  {
   "cell_type": "markdown",
   "id": "catholic-placement",
   "metadata": {},
   "source": [
    "Now let's push this through the `MagnitudeApproximator` and plot the approximate magnitude versus the actual magnitude"
   ]
  },
  {
   "cell_type": "code",
   "execution_count": 5,
   "id": "specialized-colonial",
   "metadata": {},
   "outputs": [
    {
     "data": {
      "text/plain": [
       "[<matplotlib.lines.Line2D at 0x7fa3f35cbaf0>]"
      ]
     },
     "execution_count": 5,
     "metadata": {},
     "output_type": "execute_result"
    },
    {
     "data": {
      "image/png": "[encoded data removed]",
      "text/plain": [
       "<Figure size 432x288 with 1 Axes>"
      ]
     },
     "metadata": {
      "needs_background": "light"
     },
     "output_type": "display_data"
    }
   ],
   "source": [
    "# (Blue) - First we'll use the simplest approximation, which is just an L1 norm\n",
    "approximator = make_callable(MagnitudeApproximator(simple=True))\n",
    "plt.plot([approximator(int(np.real(s)*100), int(np.imag(s)*100)) for s in inputs])\n",
    "\n",
    "# (Orange) - Next we'll used the improved approximation (with the shifts and adds and comparisons)\n",
    "approximator = make_callable(MagnitudeApproximator())\n",
    "plt.plot([approximator(int(np.real(s)*100), int(np.imag(s)*100)) for s in inputs])\n",
    "\n",
    "# (Green) Finally, the actual magnitude\n",
    "plt.plot(np.abs(inputs*100))"
   ]
  },
  {
   "cell_type": "markdown",
   "id": "civil-currency",
   "metadata": {},
   "source": [
    "All in all, we can see a decent amount of error, but the second (non-\"simple\" approach) is directionally correct enough for our purposes."
   ]
  },
  {
   "cell_type": "markdown",
   "id": "reverse-northwest",
   "metadata": {},
   "source": [
    "# CORDIC\n",
    "\n",
    "Cordic is an old but brilliant algorithm to compute a variety of trigonometric functions using just shifts and adds. Perhaps I will explain later... after I've gotten everything to work."
   ]
  },
  {
   "cell_type": "code",
   "execution_count": 109,
   "id": "6d416eed-e967-4c61-87af-8fc31bd829bb",
   "metadata": {},
   "outputs": [
    {
     "name": "stdout",
     "output_type": "stream",
     "text": [
      "0 0 0\n",
      "90 30 44\n",
      "105 -15 71\n",
      "109 11 57\n",
      "110 -2 64\n",
      "111 4 61\n",
      "111 1 62\n",
      "111 0 63\n",
      "111 0 64\n",
      "111 0 64\n"
     ]
    }
   ],
   "source": [
    "from nmigen import Elaboratable, Module, Signal, signed\n",
    "\n",
    "class Cordic(Elaboratable):\n",
    "    \"\"\"\n",
    "    This is a pipelined CORDIC implementation that computes\n",
    "    one result per clock cycle at a latency dependent on the\n",
    "    number of stages.\n",
    "    \"\"\"\n",
    "    def __init__(self, bit_depth=16, stages=8):\n",
    "        self.bit_depth = bit_depth\n",
    "        self.stages = stages\n",
    "        \n",
    "        self.input_x = Signal(signed(bit_depth))\n",
    "        self.input_y = Signal(signed(bit_depth))\n",
    "        \n",
    "        self.magnitude = Signal(signed(bit_depth))\n",
    "        self.angle = Signal(signed(bit_depth))\n",
    "        \n",
    "        self.output_x = Signal(signed(bit_depth))\n",
    "        self.output_y = Signal(signed(bit_depth))\n",
    "        \n",
    "    def elaborate(self, platform):\n",
    "        m = Module()\n",
    "        \n",
    "        cur_x = self.input_x\n",
    "        cur_y = self.input_y\n",
    "        cur_angle = Signal(signed(self.bit_depth))\n",
    "        K = 1\n",
    "        \n",
    "        for i in range(self.stages):\n",
    "            next_x = Signal(signed(self.bit_depth))\n",
    "            next_y = Signal(signed(self.bit_depth))\n",
    "            next_angle = Signal(signed(self.bit_depth))\n",
    "            K *= np.cos(np.arctan(2**-i))\n",
    "            angle = int(2**(self.bit_depth - 2)*np.arctan(2**-i))\n",
    "            \n",
    "            with m.If(cur_y < 0):\n",
    "                m.d.sync += [\n",
    "                    next_x.eq(cur_x - (cur_y >> i)),\n",
    "                    next_y.eq(cur_y + (cur_x >> i)),\n",
    "                    next_angle.eq(cur_angle - angle)\n",
    "                ]\n",
    "            with m.Else():\n",
    "                m.d.sync += [\n",
    "                    next_x.eq(cur_x + (cur_y >> i)),\n",
    "                    next_y.eq(cur_y - (cur_x >> i)),\n",
    "                    next_angle.eq(cur_angle + angle)\n",
    "                ]\n",
    "            \n",
    "            cur_x = next_x\n",
    "            cur_y = next_y\n",
    "            cur_angle = next_angle\n",
    "            \n",
    "        #print(K)\n",
    "            \n",
    "        m.d.comb += [\n",
    "            self.magnitude.eq(cur_x),\n",
    "            self.angle.eq(cur_angle),\n",
    "            \n",
    "            self.output_x.eq(cur_x),\n",
    "            self.output_y.eq(cur_y),\n",
    "        ]\n",
    "        return m\n",
    "\n",
    "for n in range(10):\n",
    "    c = Cordic(stages=n)\n",
    "    c = make_callable(c, inputs=[c.input_x, c.input_y], outputs=[c.output_x, c.output_y, c.angle])\n",
    "    x, y, angle = [c(30,60) for i in range(n+1)][-1]\n",
    "    print(x, y, int(np.rad2deg(angle/2**14)))"
   ]
  },
  {
   "cell_type": "code",
   "execution_count": 105,
   "id": "17275080-7dd1-48f9-ae32-963be57a5249",
   "metadata": {},
   "outputs": [
    {
     "name": "stdout",
     "output_type": "stream",
     "text": [
      "67.08203932499369 63.43494882292201\n",
      "90 30 45\n",
      "105 -15 71\n",
      "108 11 57\n",
      "109 -2 64\n",
      "109 4 61\n",
      "109 0 62\n",
      "109 -1 63\n",
      "109 0 63\n",
      "109 0 63\n",
      "109 0 63\n",
      "66.19061199879641 0.0 63.650676008087295\n"
     ]
    }
   ],
   "source": [
    "def cordic(x, y, stages=10):\n",
    "    angle = 0\n",
    "    K = 1\n",
    "    print(np.abs(x + 1j*y), np.rad2deg(np.arctan2(y, x)))\n",
    "    for i in range(stages):\n",
    "        #print(np.rad2deg(np.arctan(2**-i)))\n",
    "        K *= np.cos(np.arctan(2**-i))\n",
    "        if y < 0:\n",
    "            xn = x - y*2**-i\n",
    "            yn = y + x*2**-i\n",
    "            angle = angle - np.arctan(2**-i)\n",
    "        else:\n",
    "            xn = x + y*2**-i\n",
    "            yn = y - x*2**-i\n",
    "            angle = angle + np.arctan(2**-i)\n",
    "        x = int(xn)\n",
    "        y = int(yn)\n",
    "        print(x, y, int(np.rad2deg(angle)))\n",
    "    print(x*K, y*K, np.rad2deg(angle))\n",
    "\n",
    "cordic(30, 60)"
   ]
  },
  {
   "cell_type": "code",
   "execution_count": null,
   "id": "82fde82d-6472-4061-ab61-3f039737bf06",
   "metadata": {},
   "outputs": [],
   "source": []
  }
 ],
 "metadata": {
  "kernelspec": {
   "display_name": "Python 3",
   "language": "python",
   "name": "python3"
  },
  "language_info": {
   "codemirror_mode": {
    "name": "ipython",
    "version": 3
   },
   "file_extension": ".py",
   "mimetype": "text/x-python",
   "name": "python",
   "nbconvert_exporter": "python",
   "pygments_lexer": "ipython3",
   "version": "3.8.10"
  }
 },
 "nbformat": 4,
 "nbformat_minor": 5
}
